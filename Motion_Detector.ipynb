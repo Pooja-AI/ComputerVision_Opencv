{
 "cells": [
  {
   "cell_type": "code",
   "execution_count": 1,
   "metadata": {},
   "outputs": [],
   "source": [
    "import cv2\n",
    "import numpy as np\n",
    "cap = cv2.VideoCapture(\"./images/input/airplanes.mp4\")"
   ]
  },
  {
   "cell_type": "code",
   "execution_count": 2,
   "metadata": {},
   "outputs": [],
   "source": [
    "ret1,frame1 = cap.read()\n",
    "ret2,frame2 = cap.read()"
   ]
  },
  {
   "cell_type": "code",
   "execution_count": 9,
   "metadata": {},
   "outputs": [],
   "source": [
    "while True:\n",
    "    frame1_gray = cv2.cvtColor(frame1,cv2.COLOR_BGR2GRAY)\n",
    "    frame2_gray = cv2.cvtColor(frame2,cv2.COLOR_BGR2GRAY)\n",
    "    frame1_bulr = cv2.GaussianBlur(frame1_gray,(21,21),0)\n",
    "    frame2_bulr = cv2.GaussianBlur(frame2_gray,(21,21),0)\n",
    "    diff = cv2.absdiff(frame1_bulr,frame2_bulr)\n",
    "    thresh = cv2.threshold(diff,20,255,cv2.THRESH_BINARY)[1]\n",
    "    final = cv2.dilate(thresh,None,iterations=2)\n",
    "    masked = cv2.bitwise_and(frame1,frame1,mask=thresh)\n",
    "    white_pixels = np.sum(thresh)/255\n",
    "    rows,cols = thresh.shape\n",
    "    total = rows*cols\n",
    "    if white_pixels > 0.01 * total:\n",
    "        font = cv2.FONT_HERSHEY_SIMPLEX\n",
    "        cv2.putText(frame1,'Movement Detected',(10,50),font,1,(0,0,255),2,cv2.LINE_AA)\n",
    "    cv2.imshow(\"Motion\",frame1)\n",
    "    frame1 = frame2\n",
    "    ret,frame2 = cap.read()\n",
    "    if not ret:\n",
    "        break\n",
    "    key = cv2.waitKey(10)\n",
    "    if key == ord('q'):\n",
    "        break\n",
    "cv2.destroyAllWindows()"
   ]
  },
  {
   "cell_type": "code",
   "execution_count": 1,
   "metadata": {},
   "outputs": [],
   "source": [
    "# import cv2\n",
    "# import numpy as np\n",
    "# cap = cv2.VideoCapture(\"./images/input/airplanes.mp4\")\n",
    "\n",
    "# while True:\n",
    "#     ret,frame = cap.read()\n",
    "#     gray = cv2.cvtColor(frame,cv2.COLOR_BGR2GRAY)\n",
    "#     hsv = cv2.cvtColor(frame,cv2.COLOR_BGR2HSV)\n",
    "#     if ret:\n",
    "#         cv2.imshow(\"Demo\",frame)\n",
    "#         cv2.imshow(\"Gray\",gray)\n",
    "#         cv2.imshow(\"HSV\",hsv)\n",
    "#     else:\n",
    "#         break\n",
    "#     key = cv2.waitKey(10)\n",
    "#     if key == ord('q'):\n",
    "#         break\n",
    "# cv2.destroyAllWindows()"
   ]
  },
  {
   "cell_type": "code",
   "execution_count": 2,
   "metadata": {},
   "outputs": [],
   "source": [
    "# import cv2\n",
    "# import numpy as np\n",
    "# cap = cv2.VideoCapture(\"./images/input/airplanes.mp4\")\n",
    "\n",
    "# while True:\n",
    "#     ret,frame = cap.read()\n",
    "#     frame_bulr = cv2.GaussianBlur(frame,(21,21),0)\n",
    "#     thresh = cv2.threshold(frame,20,255,cv2.THRESH_BINARY)[1]\n",
    "#     dilate = cv2.dilate(frame,None,iterations=2)\n",
    "#     if ret:\n",
    "#         cv2.imshow(\"Demo\",frame)\n",
    "#         cv2.imshow(\"GaussianBlur\",frame_bulr)\n",
    "#         cv2.imshow(\"thresh\",thresh)\n",
    "#         cv2.imshow(\"dilate\",dilate)\n",
    "#     else:\n",
    "#         break\n",
    "#     key = cv2.waitKey(10)\n",
    "#     if key == ord('q'):\n",
    "#         break\n",
    "# cv2.destroyAllWindows()"
   ]
  },
  {
   "cell_type": "code",
   "execution_count": 4,
   "metadata": {},
   "outputs": [],
   "source": [
    "# while True:\n",
    "#     frame1_gray = cv2.cvtColor(frame1,cv2.COLOR_BGR2GRAY)\n",
    "#     frame2_gray = cv2.cvtColor(frame2,cv2.COLOR_BGR2GRAY)\n",
    "#     frame1_bulr = cv2.GaussianBlur(frame1_gray,(21,21),0)\n",
    "#     frame2_bulr = cv2.GaussianBlur(frame2_gray,(21,21),0)\n",
    "#     diff = cv2.absdiff(frame1_bulr,frame2_bulr)\n",
    "#     thresh = cv2.threshold(diff,20,255,cv2.THRESH_BINARY)[1]\n",
    "#     final = cv2.dilate(thresh,None,iterations=2)\n",
    "#     masked = cv2.bitwise_and(frame1,frame1,mask=thresh)\n",
    "# #     white_pixels = np.sum(thresh)/255\n",
    "# #     rows,cols = thresh.shape\n",
    "# #     total = rows*cols\n",
    "# #     if white_pixels > 0.01 * total:\n",
    "# #         font = cv2.FONT_HERSHEY_SIMPLEX\n",
    "# #         cv2.putText(frame1,'Movement Detected',(10,50),font,1,(0,0,255),2,cv2.LINE_AA)\n",
    "#     cv2.imshow(\"Motion\",masked)\n",
    "#     frame1 = frame2\n",
    "#     ret,frame2 = cap.read()\n",
    "#     if not ret:\n",
    "#         break\n",
    "#     key = cv2.waitKey(10)\n",
    "#     if key == ord('q'):\n",
    "#         break\n",
    "# cv2.destroyAllWindows()"
   ]
  },
  {
   "cell_type": "code",
   "execution_count": null,
   "metadata": {},
   "outputs": [],
   "source": []
  }
 ],
 "metadata": {
  "kernelspec": {
   "display_name": "Python 3",
   "language": "python",
   "name": "python3"
  },
  "language_info": {
   "codemirror_mode": {
    "name": "ipython",
    "version": 3
   },
   "file_extension": ".py",
   "mimetype": "text/x-python",
   "name": "python",
   "nbconvert_exporter": "python",
   "pygments_lexer": "ipython3",
   "version": "3.6.4"
  }
 },
 "nbformat": 4,
 "nbformat_minor": 2
}
